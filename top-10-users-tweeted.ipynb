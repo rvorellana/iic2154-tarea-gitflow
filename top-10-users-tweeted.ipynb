{
 "cells": [
  {
   "cell_type": "markdown",
   "id": "2488b63a",
   "metadata": {},
   "source": [
    "## Función para obtener los 10 usuarios con más tweets"
   ]
  },
  {
   "cell_type": "code",
   "execution_count": 1,
   "id": "8c223379",
   "metadata": {},
   "outputs": [],
   "source": [
    "def top_10_users_tweeted(raw_tweets):\n",
    "    raw_tweets[\"username\"] = json_normalize(raw_tweets[\"user\"]).username\n",
    "    users = raw_tweets.groupby([\"username\"]).count()\n",
    "    users= users.sort_values(\"id\", ascending = False).head(10)\n",
    "    return list(users.reset_index()[\"username\"])"
   ]
  }
 ],
 "metadata": {
  "kernelspec": {
   "display_name": "Python 3 (ipykernel)",
   "language": "python",
   "name": "python3"
  },
  "language_info": {
   "codemirror_mode": {
    "name": "ipython",
    "version": 3
   },
   "file_extension": ".py",
   "mimetype": "text/x-python",
   "name": "python",
   "nbconvert_exporter": "python",
   "pygments_lexer": "ipython3",
   "version": "3.9.6"
  }
 },
 "nbformat": 4,
 "nbformat_minor": 5
}
