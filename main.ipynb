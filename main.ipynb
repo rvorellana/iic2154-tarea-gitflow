{
 "cells": [
  {
   "cell_type": "markdown",
   "id": "e28b8d16",
   "metadata": {},
   "source": [
    "# Tarea GIT IIC2154"
   ]
  },
  {
   "cell_type": "code",
   "execution_count": 4,
   "id": "03c3de65",
   "metadata": {},
   "outputs": [],
   "source": [
    "import pandas as pd\n",
    "from pandas.io.json import json_normalize"
   ]
  },
  {
   "cell_type": "code",
   "execution_count": 5,
   "id": "00212103",
   "metadata": {},
   "outputs": [],
   "source": [
    "%run top-10-best-days.ipynb\n",
    "%run top-10-hashtags.ipynb\n",
    "%run top-10-retweeted.ipynb\n",
    "%run top-10-users-tweeted.ipynb"
   ]
  },
  {
   "cell_type": "code",
   "execution_count": 6,
   "id": "063068a1",
   "metadata": {},
   "outputs": [],
   "source": [
    "raw_tweets = pd.read_json(r'farmers-protest-tweets-2021-03-5.json', lines=True)"
   ]
  },
  {
   "cell_type": "markdown",
   "id": "809ce2f6",
   "metadata": {},
   "source": [
    "## Función para obtener los 10 tweets con más retweets"
   ]
  },
  {
   "cell_type": "code",
   "execution_count": 7,
   "id": "4ea08378",
   "metadata": {},
   "outputs": [
    {
     "data": {
      "text/plain": [
       "[1356625889602199552,\n",
       " 1356694884615340037,\n",
       " 1357282507616645122,\n",
       " 1356848397899112448,\n",
       " 1356827705161879553,\n",
       " 1357048037302960129,\n",
       " 1357755699162398720,\n",
       " 1356681136655769605,\n",
       " 1357009721090138112,\n",
       " 1359013362881994752]"
      ]
     },
     "execution_count": 7,
     "metadata": {},
     "output_type": "execute_result"
    }
   ],
   "source": [
    "top_10_retweeted(raw_tweets)"
   ]
  },
  {
   "cell_type": "markdown",
   "id": "b4984d4e",
   "metadata": {},
   "source": [
    "## Función para obtener los 10 usuarios con más tweets"
   ]
  },
  {
   "cell_type": "code",
   "execution_count": 8,
   "id": "e020fc08",
   "metadata": {},
   "outputs": [
    {
     "name": "stderr",
     "output_type": "stream",
     "text": [
      "C:\\Users\\acer\\AppData\\Local\\Temp/ipykernel_24404/7490492.py:2: FutureWarning: pandas.io.json.json_normalize is deprecated, use pandas.json_normalize instead\n",
      "  raw_tweets[\"username\"] = json_normalize(raw_tweets[\"user\"]).username\n"
     ]
    },
    {
     "data": {
      "text/plain": [
       "['harjot_tweeting',\n",
       " 'tasveersandhu',\n",
       " 'shells_n_petals',\n",
       " 'jot__b',\n",
       " 'rebelpacifist',\n",
       " 'rumsomal',\n",
       " 'Iamjazzie96',\n",
       " 'Jass_k_G',\n",
       " 'DigitalKisanBot',\n",
       " 'z_khalique007']"
      ]
     },
     "execution_count": 8,
     "metadata": {},
     "output_type": "execute_result"
    }
   ],
   "source": [
    "top_10_users_tweeted(raw_tweets)"
   ]
  },
  {
   "cell_type": "markdown",
   "id": "d0eb77df",
   "metadata": {},
   "source": [
    "## Función para obtener los 10 días con más tweets"
   ]
  },
  {
   "cell_type": "code",
   "execution_count": 9,
   "id": "79e7a882",
   "metadata": {},
   "outputs": [
    {
     "data": {
      "text/plain": [
       "[datetime.date(2021, 2, 3),\n",
       " datetime.date(2021, 2, 4),\n",
       " datetime.date(2021, 2, 5),\n",
       " datetime.date(2021, 2, 2),\n",
       " datetime.date(2021, 2, 6),\n",
       " datetime.date(2021, 2, 7),\n",
       " datetime.date(2021, 2, 9),\n",
       " datetime.date(2021, 2, 8),\n",
       " datetime.date(2021, 2, 10),\n",
       " datetime.date(2021, 2, 11)]"
      ]
     },
     "execution_count": 9,
     "metadata": {},
     "output_type": "execute_result"
    }
   ],
   "source": [
    "best_day(raw_tweets)"
   ]
  },
  {
   "cell_type": "markdown",
   "id": "58b9be2e",
   "metadata": {},
   "source": [
    "## Función para obtener los 10 Hashtags más usados"
   ]
  },
  {
   "cell_type": "code",
   "execution_count": 10,
   "id": "2bc846c3",
   "metadata": {},
   "outputs": [
    {
     "data": {
      "text/plain": [
       "['#FarmersProtest',\n",
       " '#farmersprotest',\n",
       " '#FarmersAreIndia',\n",
       " '#IndianFarmersHumanRights',\n",
       " '#Rihanna',\n",
       " '#IStandWithFarmers',\n",
       " '#StandWithFarmers',\n",
       " '#Farmersprotest',\n",
       " '#IndiaSupportsChakkaJaam',\n",
       " '#Farmers']"
      ]
     },
     "execution_count": 10,
     "metadata": {},
     "output_type": "execute_result"
    }
   ],
   "source": [
    "most_repeated_hashtags(raw_tweets)"
   ]
  }
 ],
 "metadata": {
  "kernelspec": {
   "display_name": "Python 3 (ipykernel)",
   "language": "python",
   "name": "python3"
  },
  "language_info": {
   "codemirror_mode": {
    "name": "ipython",
    "version": 3
   },
   "file_extension": ".py",
   "mimetype": "text/x-python",
   "name": "python",
   "nbconvert_exporter": "python",
   "pygments_lexer": "ipython3",
   "version": "3.9.6"
  }
 },
 "nbformat": 4,
 "nbformat_minor": 5
}
