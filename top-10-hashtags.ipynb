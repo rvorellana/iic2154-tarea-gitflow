{
 "cells": [
  {
   "cell_type": "markdown",
   "id": "c21b619a",
   "metadata": {},
   "source": [
    "## Función para obtener los 10 Hashtags más usados"
   ]
  },
  {
   "cell_type": "code",
   "execution_count": 1,
   "id": "8e0a918c",
   "metadata": {},
   "outputs": [],
   "source": [
    "def most_repeated_hashtags(raw_tweets):\n",
    "    content_series = raw_tweets[\"content\"]\n",
    "    hashtags = [itm[0] for itm in content_series.str.findall(r'(\\#[a-zA-Z]+\\b)') if len(itm)>0]\n",
    "    hashtags_series = pd.Series(hashtags)\n",
    "    return list(hashtags_series.value_counts().head(10).index)"
   ]
  }
 ],
 "metadata": {
  "kernelspec": {
   "display_name": "Python 3 (ipykernel)",
   "language": "python",
   "name": "python3"
  },
  "language_info": {
   "codemirror_mode": {
    "name": "ipython",
    "version": 3
   },
   "file_extension": ".py",
   "mimetype": "text/x-python",
   "name": "python",
   "nbconvert_exporter": "python",
   "pygments_lexer": "ipython3",
   "version": "3.9.6"
  }
 },
 "nbformat": 4,
 "nbformat_minor": 5
}
