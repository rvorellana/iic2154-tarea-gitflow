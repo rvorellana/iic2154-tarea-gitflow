{
 "cells": [
  {
   "cell_type": "markdown",
   "id": "d05d2b27",
   "metadata": {},
   "source": [
    "## Función para obtener los 10 tweets con más retweets"
   ]
  },
  {
   "cell_type": "code",
   "execution_count": 2,
   "id": "72ebee1a",
   "metadata": {},
   "outputs": [],
   "source": [
    "def top_10_retweeted(raw_tweets):\n",
    "    raw_tweets = raw_tweets.sort_values(\"retweetCount\", ascending = False)\n",
    "    raw_tweets = raw_tweets[[\"id\"]].head(10)\n",
    "    return list(raw_tweets[\"id\"])"
   ]
  }
 ],
 "metadata": {
  "kernelspec": {
   "display_name": "Python 3 (ipykernel)",
   "language": "python",
   "name": "python3"
  },
  "language_info": {
   "codemirror_mode": {
    "name": "ipython",
    "version": 3
   },
   "file_extension": ".py",
   "mimetype": "text/x-python",
   "name": "python",
   "nbconvert_exporter": "python",
   "pygments_lexer": "ipython3",
   "version": "3.9.6"
  }
 },
 "nbformat": 4,
 "nbformat_minor": 5
}
