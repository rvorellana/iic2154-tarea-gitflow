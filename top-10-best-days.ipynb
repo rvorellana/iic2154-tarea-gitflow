{
 "cells": [
  {
   "cell_type": "markdown",
   "id": "11a88afb",
   "metadata": {},
   "source": [
    "## Función para obtener los 10 días con más tweets"
   ]
  },
  {
   "cell_type": "code",
   "execution_count": 2,
   "id": "8524d836",
   "metadata": {},
   "outputs": [],
   "source": [
    "def best_day(raw_tweets):\n",
    "    raw_tweets['date_time'] = pd.to_datetime(raw_tweets['date'])\n",
    "    raw_tweets['day'] = raw_tweets['date_time'].dt.date\n",
    "    days = raw_tweets.groupby([\"day\"]).count()\n",
    "    days = days.sort_values(\"id\", ascending = False).head(10)\n",
    "    return list(days.reset_index()[\"day\"])"
   ]
  }
 ],
 "metadata": {
  "kernelspec": {
   "display_name": "Python 3 (ipykernel)",
   "language": "python",
   "name": "python3"
  },
  "language_info": {
   "codemirror_mode": {
    "name": "ipython",
    "version": 3
   },
   "file_extension": ".py",
   "mimetype": "text/x-python",
   "name": "python",
   "nbconvert_exporter": "python",
   "pygments_lexer": "ipython3",
   "version": "3.9.6"
  }
 },
 "nbformat": 4,
 "nbformat_minor": 5
}
